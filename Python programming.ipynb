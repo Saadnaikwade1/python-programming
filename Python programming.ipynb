{
 "cells": [
  {
   "cell_type": "raw",
   "id": "d44197c4-7369-4807-98cc-0719c7438fe5",
   "metadata": {},
   "source": [
    "Lets begin with Bismillah"
   ]
  },
  {
   "cell_type": "code",
   "execution_count": null,
   "id": "68179f10-3390-47a8-be43-5ed8bada1ce4",
   "metadata": {},
   "outputs": [],
   "source": []
  },
  {
   "cell_type": "code",
   "execution_count": 1,
   "id": "c8903d7b-8b7a-49c4-aeed-6ee321529037",
   "metadata": {},
   "outputs": [],
   "source": [
    "# # linked list concepts\n",
    "# singley linked list \n",
    "# doubley linked list\n"
   ]
  },
  {
   "cell_type": "code",
   "execution_count": 2,
   "id": "ec6e5667-db8f-4562-a706-fa625ab54396",
   "metadata": {},
   "outputs": [
    {
     "name": "stdout",
     "output_type": "stream",
     "text": [
      "1\n"
     ]
    }
   ],
   "source": [
    "#singley linked list\n",
    "class singlyNode:\n",
    "    def __init__(self,val,next=None):\n",
    "        self.val=val\n",
    "        self.next=next\n",
    "    def __str__(self):\n",
    "        return str(self.val)\n",
    "head=singlyNode(1)\n",
    "A=singlyNode(3)\n",
    "B=singlyNode(4)\n",
    "C=singlyNode(7)\n",
    "head.next=A\n",
    "A.next=B\n",
    "B.next=C\n",
    "print(head)"
   ]
  },
  {
   "cell_type": "code",
   "execution_count": 3,
   "id": "f692eebe-6667-4191-92f9-83d48df09702",
   "metadata": {},
   "outputs": [
    {
     "name": "stdout",
     "output_type": "stream",
     "text": [
      "1\n",
      "3\n",
      "4\n",
      "7\n"
     ]
    }
   ],
   "source": [
    "#Traverse the list-O(N)\n",
    "curr=head\n",
    "while curr:\n",
    "    print(curr)\n",
    "    curr=curr.next"
   ]
  },
  {
   "cell_type": "code",
   "execution_count": 4,
   "id": "705326f0-b826-4fe2-9d9e-7fa375f590d2",
   "metadata": {},
   "outputs": [
    {
     "name": "stdout",
     "output_type": "stream",
     "text": [
      "1 -> 3 -> 4 -> 7\n"
     ]
    }
   ],
   "source": [
    "#Display linked list-O(n)\n",
    "def display(head):\n",
    "    curr=head\n",
    "    elements=[]\n",
    "    while curr:\n",
    "        elements.append(str(curr.val))\n",
    "        curr=curr.next\n",
    "    print(\" -> \".join(elements))\n",
    "display(head)"
   ]
  },
  {
   "cell_type": "code",
   "execution_count": 5,
   "id": "5d0059e2-f833-489a-a51b-4f32f49559f0",
   "metadata": {},
   "outputs": [
    {
     "data": {
      "text/plain": [
       "True"
      ]
     },
     "execution_count": 5,
     "metadata": {},
     "output_type": "execute_result"
    }
   ],
   "source": [
    "# search for node value-O(N)\n",
    "def search(head,val):\n",
    "    curr=head\n",
    "    while curr:\n",
    "        if val==curr.val:\n",
    "            return True\n",
    "        curr=curr.next\n",
    "    return False\n",
    "search(head,3)"
   ]
  },
  {
   "cell_type": "code",
   "execution_count": 6,
   "id": "36704bdc-0d99-4d7d-b7ec-c49671481c59",
   "metadata": {},
   "outputs": [
    {
     "data": {
      "text/plain": [
       "4"
      ]
     },
     "execution_count": 6,
     "metadata": {},
     "output_type": "execute_result"
    }
   ],
   "source": [
    "def singleNumber(nums):\n",
    "    nums.sort()\n",
    "    i=0\n",
    "    while i<len(nums)-1:\n",
    "        if nums[i]==nums[i+1]:\n",
    "            nums.pop(i)\n",
    "            nums.pop(i)\n",
    "        else:\n",
    "            return nums[i]\n",
    "    return nums[0]\n",
    "singleNumber([1,1,2,2,4])"
   ]
  },
  {
   "cell_type": "code",
   "execution_count": 7,
   "id": "0a730d71-a7aa-494c-a060-9a9000c65a4f",
   "metadata": {},
   "outputs": [
    {
     "name": "stdout",
     "output_type": "stream",
     "text": [
      "18\n"
     ]
    }
   ],
   "source": [
    "s=int(81)\n",
    "s=str(s)\n",
    "print(s[::-1])"
   ]
  },
  {
   "cell_type": "code",
   "execution_count": 8,
   "id": "ff4591be-b349-425e-8d24-6bdd59ab4fc6",
   "metadata": {},
   "outputs": [
    {
     "data": {
      "text/plain": [
       "[3, 4, 5, 3, 3, 2, 0, 0, 0]"
      ]
     },
     "execution_count": 8,
     "metadata": {},
     "output_type": "execute_result"
    }
   ],
   "source": [
    "# leetcode 283\n",
    "class Solution:\n",
    "    def moveZeroes(self, nums): \n",
    "        \"\"\"\n",
    "        Do not return anything, modify nums in-place instead.\n",
    "        \"\"\"\n",
    "        z=nums.count(0)\n",
    "        while 0 in nums:\n",
    "            nums.remove(0)\n",
    "        for i in range(z):\n",
    "            nums.append(0)\n",
    "        return nums\n",
    "obj=Solution()\n",
    "obj.moveZeroes([0,0,3,4,5,3,0,3,2])"
   ]
  },
  {
   "cell_type": "code",
   "execution_count": 9,
   "id": "fe3872a1-8c84-4e6a-8b1a-1ad70fcf7af0",
   "metadata": {},
   "outputs": [
    {
     "name": "stdout",
     "output_type": "stream",
     "text": [
      "9\n",
      "[3, 4, 5, 3, 3, 2, 0, 3, 2]\n",
      "6\n"
     ]
    },
    {
     "data": {
      "text/plain": [
       "[3, 4, 5, 3, 3, 2, 0, 0, 0]"
      ]
     },
     "execution_count": 9,
     "metadata": {},
     "output_type": "execute_result"
    }
   ],
   "source": [
    "# leetcode 283\n",
    "class Solution:\n",
    "    def moveZeroes(self, nums):\n",
    "        \"\"\"\n",
    "        Do not return anything, modify nums in-place instead.\n",
    "        \"\"\"\n",
    "        placeholder = 0\n",
    "        length = len(nums)\n",
    "        print(length)\n",
    "        for i in range(length):\n",
    "            if nums[i] != 0:\n",
    "                nums[placeholder] = nums[i]\n",
    "                placeholder += 1\n",
    "        print(nums)\n",
    "        print(placeholder)\n",
    "        while placeholder < length:\n",
    "            nums[placeholder] = 0\n",
    "            placeholder += 1\n",
    "\n",
    "        return nums\n",
    "obj=Solution()\n",
    "obj.moveZeroes([0,0,3,4,5,3,0,3,2])"
   ]
  },
  {
   "cell_type": "code",
   "execution_count": 10,
   "id": "0c9f68f6-358c-46c7-84f7-3555ddb072f2",
   "metadata": {},
   "outputs": [
    {
     "ename": "NameError",
     "evalue": "name 'List' is not defined",
     "output_type": "error",
     "traceback": [
      "\u001b[31m---------------------------------------------------------------------------\u001b[39m",
      "\u001b[31mNameError\u001b[39m                                 Traceback (most recent call last)",
      "\u001b[36mCell\u001b[39m\u001b[36m \u001b[39m\u001b[32mIn[10]\u001b[39m\u001b[32m, line 2\u001b[39m\n\u001b[32m      1\u001b[39m \u001b[38;5;66;03m# 941 leetcode problem\u001b[39;00m\n\u001b[32m----> \u001b[39m\u001b[32m2\u001b[39m \u001b[38;5;28;43;01mclass\u001b[39;49;00m\u001b[38;5;250;43m \u001b[39;49m\u001b[34;43;01mSolution\u001b[39;49;00m\u001b[43m:\u001b[49m\n\u001b[32m      3\u001b[39m \u001b[43m    \u001b[49m\u001b[38;5;28;43;01mdef\u001b[39;49;00m\u001b[38;5;250;43m \u001b[39;49m\u001b[34;43mvalidMountainArray\u001b[39;49m\u001b[43m(\u001b[49m\u001b[38;5;28;43mself\u001b[39;49m\u001b[43m,\u001b[49m\u001b[43m \u001b[49m\u001b[43marr\u001b[49m\u001b[43m:\u001b[49m\u001b[43m \u001b[49m\u001b[43mList\u001b[49m\u001b[43m[\u001b[49m\u001b[38;5;28;43mint\u001b[39;49m\u001b[43m]\u001b[49m\u001b[43m)\u001b[49m\u001b[43m \u001b[49m\u001b[43m-\u001b[49m\u001b[43m>\u001b[49m\u001b[43m \u001b[49m\u001b[38;5;28;43mbool\u001b[39;49m\u001b[43m:\u001b[49m\n\u001b[32m      4\u001b[39m \u001b[43m        \u001b[49m\u001b[38;5;28;43;01mif\u001b[39;49;00m\u001b[43m \u001b[49m\u001b[38;5;28;43mlen\u001b[39;49m\u001b[43m(\u001b[49m\u001b[43marr\u001b[49m\u001b[43m)\u001b[49m\u001b[43m<\u001b[49m\u001b[32;43m3\u001b[39;49m\u001b[43m:\u001b[49m\n",
      "\u001b[36mCell\u001b[39m\u001b[36m \u001b[39m\u001b[32mIn[10]\u001b[39m\u001b[32m, line 3\u001b[39m, in \u001b[36mSolution\u001b[39m\u001b[34m()\u001b[39m\n\u001b[32m      2\u001b[39m \u001b[38;5;28;01mclass\u001b[39;00m\u001b[38;5;250m \u001b[39m\u001b[34;01mSolution\u001b[39;00m:\n\u001b[32m----> \u001b[39m\u001b[32m3\u001b[39m     \u001b[38;5;28;01mdef\u001b[39;00m\u001b[38;5;250m \u001b[39m\u001b[34mvalidMountainArray\u001b[39m(\u001b[38;5;28mself\u001b[39m, arr: \u001b[43mList\u001b[49m[\u001b[38;5;28mint\u001b[39m]) -> \u001b[38;5;28mbool\u001b[39m:\n\u001b[32m      4\u001b[39m         \u001b[38;5;28;01mif\u001b[39;00m \u001b[38;5;28mlen\u001b[39m(arr)<\u001b[32m3\u001b[39m:\n\u001b[32m      5\u001b[39m             \u001b[38;5;28;01mreturn\u001b[39;00m \u001b[38;5;28;01mFalse\u001b[39;00m\n",
      "\u001b[31mNameError\u001b[39m: name 'List' is not defined"
     ]
    }
   ],
   "source": [
    "# 941 leetcode problem\n",
    "class Solution:\n",
    "    def validMountainArray(self, arr: List[int]) -> bool:\n",
    "        if len(arr)<3:\n",
    "            return False\n",
    "        i=0\n",
    "        j=len(arr)-1\n",
    "        while i+1<len(arr)-1 and arr[i]<arr[i+1]:\n",
    "            i=i+1\n",
    "        while j-1>0 and arr[j]<arr[j-1]:\n",
    "            j-=1\n",
    "        return i==j\n",
    "# [0,3,2,1]\n",
    "# [0,1,2,3,4,5,6,7,8,9]\n",
    "# above are test cases"
   ]
  },
  {
   "cell_type": "code",
   "execution_count": null,
   "id": "c6bd4194-3115-4365-89f7-7671e97acdcc",
   "metadata": {},
   "outputs": [],
   "source": [
    "nums=[3,4,5,1,2]\n",
    "m=min(nums)\n",
    "i=nums.index(m)\n",
    "print(m)\n",
    "print(i)\n",
    "x=nums[i:]+nums[:i]\n",
    "print(x)\n",
    "if x==nums:\n",
    "    print(\"yes\")\n",
    "else:\n",
    "    print(\"no\")\n",
    "    \n",
    "    \n",
    "    "
   ]
  },
  {
   "cell_type": "code",
   "execution_count": null,
   "id": "29da7963-1d05-4590-9ade-baa93c671b3b",
   "metadata": {},
   "outputs": [],
   "source": [
    "def check(nums):\n",
    "        nums=sorted(nums)\n",
    "        m=min(nums)\n",
    "        i=nums.index(m)\n",
    "        x=nums[i:]+nums[:i]\n",
    "        if x==nums or i>=0:\n",
    "            return True\n",
    "        return False\n",
    "check([3,4,5,1,2])\n"
   ]
  },
  {
   "cell_type": "code",
   "execution_count": null,
   "id": "267645a5-e95c-4506-9c78-429bbee8152b",
   "metadata": {},
   "outputs": [],
   "source": [
    "# stack\n",
    "# last in first out  LIFO policy\n",
    "st=[]\n",
    "print(st)\n"
   ]
  },
  {
   "cell_type": "code",
   "execution_count": null,
   "id": "1953357c-1e09-4e23-bc69-a67825ab080f",
   "metadata": {},
   "outputs": [],
   "source": [
    "# append stack to top -o(n)\n",
    "st.append(5)\n",
    "print(st)"
   ]
  },
  {
   "cell_type": "code",
   "execution_count": null,
   "id": "47de078c-729a-41bc-a30f-2b89666e5c5e",
   "metadata": {},
   "outputs": [],
   "source": [
    "st.append(3)\n",
    "st.append(4)\n",
    "st"
   ]
  },
  {
   "cell_type": "code",
   "execution_count": null,
   "id": "f628b624-2737-45c1-a44d-3306d7d2c958",
   "metadata": {},
   "outputs": [],
   "source": [
    "# pop from the stack-o(1)\n",
    "x=st.pop()\n",
    "print(x)\n",
    "print(st)"
   ]
  },
  {
   "cell_type": "code",
   "execution_count": null,
   "id": "1931fa32-a47a-497b-8501-c5b55472f6c0",
   "metadata": {},
   "outputs": [],
   "source": [
    "# whats on the top of stack -o(1)\n",
    "print(st[-1])"
   ]
  },
  {
   "cell_type": "code",
   "execution_count": null,
   "id": "b87bbee9-682e-454b-9e74-6b969490a6b3",
   "metadata": {},
   "outputs": [],
   "source": [
    "# ask if something in the stack-O(1)\n",
    "if st:\n",
    "    print(True)\n",
    "    "
   ]
  },
  {
   "cell_type": "code",
   "execution_count": null,
   "id": "b85d0e85-948c-4a19-8eaf-e5c9d03dfa4e",
   "metadata": {},
   "outputs": [],
   "source": [
    "# Queue- first in first out(FIFO\n",
    "# deque =>it has two ends\n",
    "from collections import deque\n",
    "q=deque()\n",
    "print(q)\n"
   ]
  },
  {
   "cell_type": "code",
   "execution_count": null,
   "id": "7390ecc3-0a99-49f3-810c-bef222106007",
   "metadata": {},
   "outputs": [],
   "source": [
    "# Enque- add element to right side-O(1)\n",
    "q.append(5)\n",
    "q.append(6)\n",
    "q.append(7)\n",
    "q\n"
   ]
  },
  {
   "cell_type": "code",
   "execution_count": null,
   "id": "9826e8a9-40f3-4d0b-a478-734469ae5e2d",
   "metadata": {},
   "outputs": [],
   "source": [
    "# deque-(pop left) remove element from the left -O(1)\n",
    "q.popleft()"
   ]
  },
  {
   "cell_type": "code",
   "execution_count": null,
   "id": "a8252fbf-e6af-47ac-afab-65da0b259487",
   "metadata": {},
   "outputs": [],
   "source": [
    "q"
   ]
  },
  {
   "cell_type": "code",
   "execution_count": null,
   "id": "9e7015bb-1540-4b98-97df-11aef88fdfca",
   "metadata": {},
   "outputs": [],
   "source": [
    "# peak form left side -O(1)\n",
    "q[0]"
   ]
  },
  {
   "cell_type": "code",
   "execution_count": null,
   "id": "cfc99c45-9b30-4288-a9e9-3c611cd4565e",
   "metadata": {},
   "outputs": [],
   "source": [
    "# peak form right side- o(1)\n",
    "q[-1]"
   ]
  },
  {
   "cell_type": "code",
   "execution_count": null,
   "id": "2f34cf8c-d0d3-4cd1-88ea-713e9a921775",
   "metadata": {},
   "outputs": [],
   "source": [
    "#singley linked list\n",
    "class singlyNode:\n",
    "    def __init__(self,val,next=None):\n",
    "        self.val=val\n",
    "        self.next=next\n",
    "    def __str__(self):\n",
    "        return str(self.val)\n",
    "head=singlyNode(1)\n",
    "A=singlyNode(3)\n",
    "B=singlyNode(4)\n",
    "C=singlyNode(7)\n",
    "head.next=A\n",
    "A.next=B\n",
    "B.next=C\n",
    "print(head)"
   ]
  },
  {
   "cell_type": "code",
   "execution_count": null,
   "id": "d7d75d61-592c-4ea3-b209-e6dd8bf2d248",
   "metadata": {},
   "outputs": [],
   "source": [
    "#reccursion\n",
    "# fabonaci series\n",
    "# F(0)=0\n",
    "# F(1)=1\n",
    "# n>1:F(n)=F(n-1)+F(n-2)\n",
    "# TIME:O(2^n)\n",
    "#SPACE COMPLEXITY:O(N)\n",
    "def F(n):\n",
    "    if n==0:\n",
    "        return 0\n",
    "    elif n==1:\n",
    "        return 1\n",
    "    else: \n",
    "        return F(n-1)+F(n-2)\n",
    "F()"
   ]
  },
  {
   "cell_type": "code",
   "execution_count": null,
   "id": "517c704f-dde2-4025-b9ef-9f67fc1776d1",
   "metadata": {},
   "outputs": [],
   "source": [
    "# linked list\n",
    "def reverse(node):\n",
    "    if not node:\n",
    "        return\n",
    "    reverse(node.next)\n",
    "    print(node)\n",
    "reverse(head)"
   ]
  },
  {
   "cell_type": "code",
   "execution_count": null,
   "id": "86430823-c859-40d1-9476-9bb195645ffe",
   "metadata": {},
   "outputs": [],
   "source": [
    "#linked list if list is sorted and remove duplicates from the linked list \n",
    "class ListNode:\n",
    "    def __init__(self, val=0, next=None):\n",
    "        self.val = val\n",
    "        self.next = next\n",
    "\n",
    "def deleteDuplicates(head: ListNode) -> ListNode:\n",
    "    current = head\n",
    "    while current:\n",
    "        # Skip all duplicates from liked list\n",
    "        while current.next and current.val == current.next.val:\n",
    "            current.next = current.next.next\n",
    "        current = current.next\n",
    "    return head\n"
   ]
  },
  {
   "cell_type": "code",
   "execution_count": null,
   "id": "0c8791ea-c279-4c8c-9daf-13667c8304b7",
   "metadata": {},
   "outputs": [],
   "source": [
    "# binary search\n",
    "A=[-3,-2,0,5,6,9,11,43]\n",
    "# naive search o(N)\n",
    "if 5 in A:\n",
    "    print(True)"
   ]
  },
  {
   "cell_type": "code",
   "execution_count": null,
   "id": "188bd4df-c781-49e6-865a-414e2e91e280",
   "metadata": {},
   "outputs": [],
   "source": [
    "# binary_search \n",
    "# time-o(log2n)\n",
    "# space-O(1)\n",
    "def binary_search(arr, target):\n",
    "    N = len(arr)\n",
    "    L = 0\n",
    "    R = N - 1\n",
    "    \n",
    "    while L <= R:\n",
    "        M = L + (R - L) // 2\n",
    "        if arr[M] == target:\n",
    "            return True\n",
    "        elif target < arr[M]:\n",
    "            R = M - 1\n",
    "        else:\n",
    "            L = M + 1\n",
    "    return False\n",
    "binary_search(A,7)"
   ]
  },
  {
   "cell_type": "code",
   "execution_count": null,
   "id": "be925b8c-efd5-4dce-9720-84f09c8814b5",
   "metadata": {},
   "outputs": [],
   "source": [
    "# condition based\n",
    "B=[False,False,False,True,True,True,True]\n",
    "def bin_ser_cond(arr):\n",
    "    N=len(arr)\n",
    "    L=0\n",
    "    R=N-1\n",
    "\n",
    "    while L<R:\n",
    "        M=(L+R)//2\n",
    "\n",
    "        if arr[M]:\n",
    "            R=M\n",
    "        else:\n",
    "            L=M+1\n",
    "    return L\n",
    "bin_ser_cond(B)\n",
    "        "
   ]
  },
  {
   "cell_type": "code",
   "execution_count": 11,
   "id": "fc056106-3569-418a-b593-2d95698662da",
   "metadata": {},
   "outputs": [
    {
     "name": "stdout",
     "output_type": "stream",
     "text": [
      "[True, False, True, True]\n"
     ]
    }
   ],
   "source": [
    "l=[202,89,112,88]\n",
    "# output: [True,False,True,False]\n",
    "m=[]\n",
    "for i in l:\n",
    "    s=set()\n",
    "    num=i\n",
    "    has_duplicate=False\n",
    "    \n",
    "    while num!=0:\n",
    "        d=num%10\n",
    "        if d in s:\n",
    "            has_duplicate=True\n",
    "            break\n",
    "        s.add(d)\n",
    "        num//=10\n",
    "        \n",
    "    m.append(has_duplicate)\n",
    "print(m)"
   ]
  },
  {
   "cell_type": "code",
   "execution_count": 12,
   "id": "a20cec93-7117-40c5-a522-685cc872c9cc",
   "metadata": {},
   "outputs": [
    {
     "name": "stdout",
     "output_type": "stream",
     "text": [
      "[4, 10, 18]\n"
     ]
    }
   ],
   "source": [
    "l1=[1,2,3]\n",
    "l2=[4,5,6]\n",
    "l=[]\n",
    "for i in range(len(l1)):\n",
    "    for j in range(len(l2)):\n",
    "        if i==j:\n",
    "            l.append(l1[i]*l2[j])\n",
    "print(l)\n",
    "            \n",
    "            "
   ]
  },
  {
   "cell_type": "code",
   "execution_count": 14,
   "id": "fdb28a42-f421-4c0d-a3f6-306ddd318f1e",
   "metadata": {},
   "outputs": [
    {
     "name": "stdout",
     "output_type": "stream",
     "text": [
      "[4, 10, 18]\n"
     ]
    }
   ],
   "source": [
    "print([a*b for a,b in zip(l1,l2)])\n"
   ]
  },
  {
   "cell_type": "code",
   "execution_count": 32,
   "id": "eb9b7614-363a-4e17-bf50-1b4e4000e79a",
   "metadata": {},
   "outputs": [
    {
     "data": {
      "text/plain": [
       "2"
      ]
     },
     "execution_count": 32,
     "metadata": {},
     "output_type": "execute_result"
    }
   ],
   "source": [
    "# CODE AND DEBUG\n",
    "# part 6 ... count number of digits in a integer\n",
    "# solution 1\n",
    "def countdigit(num):\n",
    "    c=0\n",
    "    while num>0:\n",
    "        c+=1\n",
    "        num//=10\n",
    "    return c\n",
    "countdigit(1122)\n",
    "\n",
    "\n",
    "# solution 2\n",
    "# from math import *\n",
    "# def countDigits(num):\n",
    "#     return int(log10(num)+1)\n",
    "# countDigits(11)"
   ]
  },
  {
   "cell_type": "code",
   "execution_count": 37,
   "id": "915837ba-1490-4275-8843-5af83e0c6300",
   "metadata": {},
   "outputs": [
    {
     "data": {
      "text/plain": [
       "False"
      ]
     },
     "execution_count": 37,
     "metadata": {},
     "output_type": "execute_result"
    }
   ],
   "source": [
    "# part 7 check if the given Number is Pallindrome or NOt\n",
    "def ispal(n):\n",
    "    num=n\n",
    "    result=d=0\n",
    "    while num>0:\n",
    "        d=num%10\n",
    "        result=result*10+d\n",
    "        num//=10\n",
    "    return result==n\n",
    "ispal(2342)\n",
    "# tc: O(log10(N)\n",
    "# sc:O(1)"
   ]
  },
  {
   "cell_type": "code",
   "execution_count": null,
   "id": "55c3c58f-9025-46b7-b42a-8fa5e7fc4a48",
   "metadata": {},
   "outputs": [],
   "source": []
  }
 ],
 "metadata": {
  "kernelspec": {
   "display_name": "Python 3 (ipykernel)",
   "language": "python",
   "name": "python3"
  },
  "language_info": {
   "codemirror_mode": {
    "name": "ipython",
    "version": 3
   },
   "file_extension": ".py",
   "mimetype": "text/x-python",
   "name": "python",
   "nbconvert_exporter": "python",
   "pygments_lexer": "ipython3",
   "version": "3.12.4"
  }
 },
 "nbformat": 4,
 "nbformat_minor": 5
}
