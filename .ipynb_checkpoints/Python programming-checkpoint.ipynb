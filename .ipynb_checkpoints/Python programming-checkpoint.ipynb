{
 "cells": [
  {
   "cell_type": "raw",
   "id": "d44197c4-7369-4807-98cc-0719c7438fe5",
   "metadata": {},
   "source": [
    "Lets begin with Bismillah"
   ]
  },
  {
   "cell_type": "code",
   "execution_count": null,
   "id": "c8903d7b-8b7a-49c4-aeed-6ee321529037",
   "metadata": {},
   "outputs": [],
   "source": [
    "# # linked list concepts\n",
    "# singley linked list \n",
    "# doubley linked list\n"
   ]
  },
  {
   "cell_type": "code",
   "execution_count": 27,
   "id": "ec6e5667-db8f-4562-a706-fa625ab54396",
   "metadata": {},
   "outputs": [
    {
     "name": "stdout",
     "output_type": "stream",
     "text": [
      "1\n"
     ]
    }
   ],
   "source": [
    "#singley linked list\n",
    "class singlyNode:\n",
    "    def __init__(self,val,next=None):\n",
    "        self.val=val\n",
    "        self.next=next\n",
    "    def __str__(self):\n",
    "        return str(self.val)\n",
    "head=singlyNode(1)\n",
    "A=singlyNode(3)\n",
    "B=singlyNode(4)\n",
    "C=singlyNode(7)\n",
    "head.next=A\n",
    "A.next=B\n",
    "B.next=C\n",
    "print(head)"
   ]
  },
  {
   "cell_type": "code",
   "execution_count": 29,
   "id": "f692eebe-6667-4191-92f9-83d48df09702",
   "metadata": {},
   "outputs": [
    {
     "name": "stdout",
     "output_type": "stream",
     "text": [
      "1\n",
      "3\n",
      "4\n",
      "7\n"
     ]
    }
   ],
   "source": [
    "#Traverse the list-O(N)\n",
    "curr=head\n",
    "while curr:\n",
    "    print(curr)\n",
    "    curr=curr.next"
   ]
  },
  {
   "cell_type": "code",
   "execution_count": 30,
   "id": "705326f0-b826-4fe2-9d9e-7fa375f590d2",
   "metadata": {},
   "outputs": [
    {
     "name": "stdout",
     "output_type": "stream",
     "text": [
      "1 -> 3 -> 4 -> 7\n"
     ]
    }
   ],
   "source": [
    "#Display linked list-O(n)\n",
    "def display(head):\n",
    "    curr=head\n",
    "    elements=[]\n",
    "    while curr:\n",
    "        elements.append(str(curr.val))\n",
    "        curr=curr.next\n",
    "    print(\" -> \".join(elements))\n",
    "display(head)"
   ]
  },
  {
   "cell_type": "code",
   "execution_count": 31,
   "id": "5d0059e2-f833-489a-a51b-4f32f49559f0",
   "metadata": {},
   "outputs": [
    {
     "data": {
      "text/plain": [
       "True"
      ]
     },
     "execution_count": 31,
     "metadata": {},
     "output_type": "execute_result"
    }
   ],
   "source": [
    "# search for node value-O(N)\n",
    "def search(head,val):\n",
    "    curr=head\n",
    "    while curr:\n",
    "        if val==curr.val:\n",
    "            return True\n",
    "        curr=curr.next\n",
    "    return False\n",
    "search(head,3)"
   ]
  },
  {
   "cell_type": "code",
   "execution_count": 16,
   "id": "36704bdc-0d99-4d7d-b7ec-c49671481c59",
   "metadata": {},
   "outputs": [
    {
     "data": {
      "text/plain": [
       "2"
      ]
     },
     "execution_count": 16,
     "metadata": {},
     "output_type": "execute_result"
    }
   ],
   "source": [
    "def singleNumber(nums):\n",
    "    nums.sort()\n",
    "    i=0\n",
    "    while i<len(nums)-1:\n",
    "        if nums[i]==nums[i+1]:\n",
    "            nums.pop(i)\n",
    "            nums.pop(i)\n",
    "        else:\n",
    "            return nums[i]\n",
    "        i+=1\n",
    "    return nums[0]\n",
    "singleNumber([1,1,2,2,4])"
   ]
  },
  {
   "cell_type": "code",
   "execution_count": 12,
   "id": "e3a927ef-91e3-4fc9-888b-8391275a0c63",
   "metadata": {},
   "outputs": [
    {
     "name": "stdout",
     "output_type": "stream",
     "text": [
      "Sorted: [1, 1, 2, 2, 4]\n",
      "Single number: 4\n"
     ]
    }
   ],
   "source": [
    "def singleNumber(nums):\n",
    "    nums.sort()\n",
    "    print(\"Sorted:\", nums)\n",
    "    \n",
    "    i = 0\n",
    "    while i < len(nums) - 1:\n",
    "        if nums[i] == nums[i + 1]:\n",
    "            # Remove the pair\n",
    "            nums.pop(i)\n",
    "            nums.pop(i)\n",
    "        else:\n",
    "            # If not equal, this is the unique one\n",
    "            return nums[i]\n",
    "    # If loop ends and one element is left\n",
    "    return nums[0]\n",
    "\n",
    "print(\"Single number:\", singleNumber([1, 1, 2, 2, 4]))\n"
   ]
  },
  {
   "cell_type": "code",
   "execution_count": null,
   "id": "0a730d71-a7aa-494c-a060-9a9000c65a4f",
   "metadata": {},
   "outputs": [],
   "source": []
  }
 ],
 "metadata": {
  "kernelspec": {
   "display_name": "Python 3 (ipykernel)",
   "language": "python",
   "name": "python3"
  },
  "language_info": {
   "codemirror_mode": {
    "name": "ipython",
    "version": 3
   },
   "file_extension": ".py",
   "mimetype": "text/x-python",
   "name": "python",
   "nbconvert_exporter": "python",
   "pygments_lexer": "ipython3",
   "version": "3.12.4"
  }
 },
 "nbformat": 4,
 "nbformat_minor": 5
}
