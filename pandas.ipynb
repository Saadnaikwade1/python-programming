{
 "cells": [
  {
   "cell_type": "code",
   "execution_count": 12,
   "id": "8a7e6f35-3088-40fb-aa93-2d4b578eecfa",
   "metadata": {},
   "outputs": [
    {
     "data": {
      "text/plain": [
       "0    Hello world\n",
       "dtype: object"
      ]
     },
     "execution_count": 12,
     "metadata": {},
     "output_type": "execute_result"
    }
   ],
   "source": [
    "# starting pandas....\n",
    "\n",
    "import pandas as pd\n",
    "# # 2d list\n",
    "# li1=[13,23,3]\n",
    "# li2=['John','fkdf','jenny']\n",
    "# dict={'name':li2,'age':li1}\n",
    "# dict\n",
    "\n",
    "# how to create a series in pandas\n",
    "# by list\n",
    "s1=pd.Series([23,44,32])\n",
    "s1\n",
    "\n",
    "\n",
    "#by range\n",
    "s1=pd.Series(range(11,21))\n",
    "s1\n",
    "\n",
    "# by dict\n",
    "s1=pd.Series({\"name\":\"sam\",'age':21})\n",
    "s1\n",
    "\n",
    "# by scalar\n",
    "s1=pd.Series(\"Hello world\")\n",
    "s1\n",
    "\n",
    "# # what we can do with pandas\n",
    "# # read and write data\n",
    "# # manipualate the data\n",
    "# # we can accesss sub sets within a large datasets\n",
    "# # we can perfrom operation\n",
    "# # we can do reshaping"
   ]
  },
  {
   "cell_type": "code",
   "execution_count": 26,
   "id": "222c0885-094a-4455-a70c-fa2b12c5f473",
   "metadata": {},
   "outputs": [
    {
     "name": "stdout",
     "output_type": "stream",
     "text": [
      "       r1   r2\n",
      "name  sam  max\n",
      "age    32   55\n",
      "city  hyd  NaN\n"
     ]
    },
    {
     "data": {
      "text/plain": [
       "55"
      ]
     },
     "execution_count": 26,
     "metadata": {},
     "output_type": "execute_result"
    }
   ],
   "source": [
    "import pandas as pd\n",
    "\n",
    "# dataframe through dict of list\n",
    "df=pd.DataFrame({'name':['sam','max','tim'],'age':[23,55,33]})\n",
    "df\n",
    "\n",
    "# through dict of dict\n",
    "df=pd.DataFrame({'r1':{\"name\":\"sam\",\"age\":32,'city':'hyd'},'r2':{\"name\":\"max\",\"age\":55}})\n",
    "df\n",
    "\n",
    "# outer keys-colums\n",
    "# inner keys -index or labels\n",
    "\n",
    "\n",
    "# how to access the value from the dataframe\n",
    "\n",
    "# loc\n",
    "print(df)\n",
    "\n",
    "# loc[row index,col index]\n",
    "df.loc['name',\"r1\"]\n",
    "\n",
    "# # iloc\n",
    "df.iloc[1,1]"
   ]
  },
  {
   "cell_type": "code",
   "execution_count": 14,
   "id": "143a138e-1c9f-485c-a015-7be09a23c7d0",
   "metadata": {},
   "outputs": [
    {
     "name": "stdout",
     "output_type": "stream",
     "text": [
      "     Name  Age  Math  Science\n",
      "11    Ram   18    85       92\n",
      "12   Sita   19    90       88\n",
      "13   John   20    78       84\n",
      "14    Ali   21    88       76\n",
      "15  Maria   22    95       89\n",
      "16  Karan   20    70       95\n",
      "17  Priya   19    82       80\n",
      "18  David   23    76       85\n",
      "19  Anita   21    89       90\n",
      "20   Ravi   22    91       87\n"
     ]
    },
    {
     "data": {
      "text/html": [
       "<div>\n",
       "<style scoped>\n",
       "    .dataframe tbody tr th:only-of-type {\n",
       "        vertical-align: middle;\n",
       "    }\n",
       "\n",
       "    .dataframe tbody tr th {\n",
       "        vertical-align: top;\n",
       "    }\n",
       "\n",
       "    .dataframe thead th {\n",
       "        text-align: right;\n",
       "    }\n",
       "</style>\n",
       "<table border=\"1\" class=\"dataframe\">\n",
       "  <thead>\n",
       "    <tr style=\"text-align: right;\">\n",
       "      <th></th>\n",
       "      <th>Name</th>\n",
       "      <th>Age</th>\n",
       "      <th>Math</th>\n",
       "      <th>Science</th>\n",
       "    </tr>\n",
       "  </thead>\n",
       "  <tbody>\n",
       "    <tr>\n",
       "      <th>11</th>\n",
       "      <td>Ram</td>\n",
       "      <td>18</td>\n",
       "      <td>85</td>\n",
       "      <td>92</td>\n",
       "    </tr>\n",
       "    <tr>\n",
       "      <th>12</th>\n",
       "      <td>Sita</td>\n",
       "      <td>19</td>\n",
       "      <td>90</td>\n",
       "      <td>88</td>\n",
       "    </tr>\n",
       "  </tbody>\n",
       "</table>\n",
       "</div>"
      ],
      "text/plain": [
       "    Name  Age  Math  Science\n",
       "11   Ram   18    85       92\n",
       "12  Sita   19    90       88"
      ]
     },
     "execution_count": 14,
     "metadata": {},
     "output_type": "execute_result"
    }
   ],
   "source": [
    "import pandas as pd\n",
    "\n",
    "std=pd.DataFrame({\n",
    "    \"Name\": [\"Ram\", \"Sita\", \"John\", \"Ali\", \"Maria\", \"Karan\", \"Priya\", \"David\", \"Anita\", \"Ravi\"],\n",
    "    \"Age\": [18, 19, 20, 21, 22, 20, 19, 23, 21, 22],\n",
    "    \"Math\": [85, 90, 78, 88, 95, 70, 82, 76, 89, 91],\n",
    "    \"Science\": [92, 88, 84, 76, 89, 95, 80, 85, 90, 87]\n",
    "},index=range(11,21))\n",
    "print(std)\n",
    "std.loc[14,'Name']\n",
    "std.iloc[3,0]\n",
    "std.head()\n",
    "std.tail()\n",
    "std.head(2)"
   ]
  },
  {
   "cell_type": "code",
   "execution_count": 33,
   "id": "38d36305-2b2d-4905-9cbe-2918acf69502",
   "metadata": {},
   "outputs": [
    {
     "data": {
      "text/html": [
       "<div>\n",
       "<style scoped>\n",
       "    .dataframe tbody tr th:only-of-type {\n",
       "        vertical-align: middle;\n",
       "    }\n",
       "\n",
       "    .dataframe tbody tr th {\n",
       "        vertical-align: top;\n",
       "    }\n",
       "\n",
       "    .dataframe thead th {\n",
       "        text-align: right;\n",
       "    }\n",
       "</style>\n",
       "<table border=\"1\" class=\"dataframe\">\n",
       "  <thead>\n",
       "    <tr style=\"text-align: right;\">\n",
       "      <th></th>\n",
       "      <th>Name</th>\n",
       "      <th>Dept</th>\n",
       "      <th>Salary</th>\n",
       "      <th>city</th>\n",
       "    </tr>\n",
       "  </thead>\n",
       "  <tbody>\n",
       "    <tr>\n",
       "      <th>0</th>\n",
       "      <td>Alex</td>\n",
       "      <td>HR</td>\n",
       "      <td>45450</td>\n",
       "      <td>hyd</td>\n",
       "    </tr>\n",
       "    <tr>\n",
       "      <th>2</th>\n",
       "      <td>John</td>\n",
       "      <td>Finance</td>\n",
       "      <td>55450</td>\n",
       "      <td>hyd</td>\n",
       "    </tr>\n",
       "    <tr>\n",
       "      <th>3</th>\n",
       "      <td>Nina</td>\n",
       "      <td>IT</td>\n",
       "      <td>62450</td>\n",
       "      <td>hyd</td>\n",
       "    </tr>\n",
       "    <tr>\n",
       "      <th>4</th>\n",
       "      <td>Ravi</td>\n",
       "      <td>HR</td>\n",
       "      <td>47450</td>\n",
       "      <td>hyd</td>\n",
       "    </tr>\n",
       "    <tr>\n",
       "      <th>5</th>\n",
       "      <td>Sara</td>\n",
       "      <td>Finance</td>\n",
       "      <td>58450</td>\n",
       "      <td>hyd</td>\n",
       "    </tr>\n",
       "    <tr>\n",
       "      <th>6</th>\n",
       "      <td>David</td>\n",
       "      <td>Marketing</td>\n",
       "      <td>52450</td>\n",
       "      <td>hyd</td>\n",
       "    </tr>\n",
       "    <tr>\n",
       "      <th>7</th>\n",
       "      <td>Ali</td>\n",
       "      <td>IT</td>\n",
       "      <td>61450</td>\n",
       "      <td>hyd</td>\n",
       "    </tr>\n",
       "    <tr>\n",
       "      <th>8</th>\n",
       "      <td>Kiran</td>\n",
       "      <td>Finance</td>\n",
       "      <td>53450</td>\n",
       "      <td>hyd</td>\n",
       "    </tr>\n",
       "    <tr>\n",
       "      <th>9</th>\n",
       "      <td>Maria</td>\n",
       "      <td>HR</td>\n",
       "      <td>49450</td>\n",
       "      <td>hyd</td>\n",
       "    </tr>\n",
       "    <tr>\n",
       "      <th>10</th>\n",
       "      <td>Sam</td>\n",
       "      <td>HR</td>\n",
       "      <td>23000</td>\n",
       "      <td>NaN</td>\n",
       "    </tr>\n",
       "  </tbody>\n",
       "</table>\n",
       "</div>"
      ],
      "text/plain": [
       "     Name       Dept Salary city\n",
       "0    Alex         HR  45450  hyd\n",
       "2    John    Finance  55450  hyd\n",
       "3    Nina         IT  62450  hyd\n",
       "4    Ravi         HR  47450  hyd\n",
       "5    Sara    Finance  58450  hyd\n",
       "6   David  Marketing  52450  hyd\n",
       "7     Ali         IT  61450  hyd\n",
       "8   Kiran    Finance  53450  hyd\n",
       "9   Maria         HR  49450  hyd\n",
       "10    Sam         HR  23000  NaN"
      ]
     },
     "execution_count": 33,
     "metadata": {},
     "output_type": "execute_result"
    }
   ],
   "source": [
    "import pandas as pd\n",
    "emp={\n",
    "    101: {\"Name\": \"Alex\", \"Dept\": \"HR\", \"Salary\": 45000},\n",
    "    102: {\"Name\": \"Sam\", \"Dept\": \"IT\", \"Salary\": 60000},\n",
    "    103: {\"Name\": \"John\", \"Dept\": \"Finance\", \"Salary\": 55000},\n",
    "    104: {\"Name\": \"Nina\", \"Dept\": \"IT\", \"Salary\": 62000},\n",
    "    105: {\"Name\": \"Ravi\", \"Dept\": \"HR\", \"Salary\": 47000},\n",
    "    106: {\"Name\": \"Sara\", \"Dept\": \"Finance\", \"Salary\": 58000},\n",
    "    107: {\"Name\": \"David\", \"Dept\": \"Marketing\", \"Salary\": 52000},\n",
    "    108: {\"Name\": \"Ali\", \"Dept\": \"IT\", \"Salary\": 61000},\n",
    "    109: {\"Name\": \"Kiran\", \"Dept\": \"Finance\", \"Salary\": 53000},\n",
    "    110: {\"Name\": \"Maria\", \"Dept\": \"HR\", \"Salary\": 49000}\n",
    "}\n",
    "\n",
    "df=pd.DataFrame(emp).T\n",
    "df\n",
    "\n",
    "# we can add new column \n",
    "df['city']='hyd'\n",
    "\n",
    "# we can change existing coluumn values\n",
    "df['Salary']+=450\n",
    "\n",
    "# #how to drop a column\n",
    "# df.drop(['Name',\"Dept\"],axis=1,inplace=True)\n",
    "\n",
    "\n",
    "# how to add a new row\n",
    "data={\"Name\":\"Sam\",\"Dept\":\"HR\",\"Salary\":23000}\n",
    "\n",
    "newdata=pd.DataFrame([data])\n",
    "newupd=pd.concat([df,newdata],ignore_index=True)\n",
    "newupd\n",
    "\n",
    "# how to modify the existing value\n",
    "\n",
    "newupd.iloc[1,0]='sunny'\n",
    "newupd\n",
    "\n",
    "# how to drop a perticular row\n",
    "newupd.drop(1,inplace=True)\n",
    "newupd\n"
   ]
  },
  {
   "cell_type": "code",
   "execution_count": 35,
   "id": "655accd6-bc3b-4c7a-a42f-c0f8c6e2b307",
   "metadata": {},
   "outputs": [
    {
     "name": "stdout",
     "output_type": "stream",
     "text": [
      "git version 2.51.0.windows.1\n"
     ]
    }
   ],
   "source": [
    "# Check git version\n",
    "!git --version\n"
   ]
  },
  {
   "cell_type": "code",
   "execution_count": 36,
   "id": "2d839d5e-40c8-4a80-a155-795df6c7dc61",
   "metadata": {},
   "outputs": [
    {
     "name": "stdout",
     "output_type": "stream",
     "text": [
      "Initialized empty Git repository in C:/Users/SAAD NAIKWADE/saad python pgm/.git/\n"
     ]
    }
   ],
   "source": [
    "!git init"
   ]
  },
  {
   "cell_type": "code",
   "execution_count": 41,
   "id": "bb753255-cf54-4c66-8044-da3c09db7f09",
   "metadata": {},
   "outputs": [
    {
     "name": "stderr",
     "output_type": "stream",
     "text": [
      "error: remote origin already exists.\n"
     ]
    }
   ],
   "source": [
    "!git remote add origin https://github.com/Saadnaikwade1/python-programming.git"
   ]
  },
  {
   "cell_type": "code",
   "execution_count": 47,
   "id": "882434a2-f18a-4186-9707-7c1bc1a408c9",
   "metadata": {},
   "outputs": [
    {
     "name": "stdout",
     "output_type": "stream",
     "text": [
      " Volume in drive C is OS\n",
      " Volume Serial Number is 620F-E756\n",
      "\n",
      " Directory of C:\\Users\\SAAD NAIKWADE\\saad python pgm\n",
      "\n",
      "25-09-2025  20:07    <DIR>          .\n",
      "16-09-2025  00:34    <DIR>          ..\n",
      "25-09-2025  14:39    <DIR>          .ipynb_checkpoints\n",
      "11-09-2025  20:09            17,330 basic.ipynb\n",
      "25-09-2025  20:07            13,220 pandas.ipynb\n",
      "23-09-2025  12:43            20,404 Python programming.ipynb\n",
      "               3 File(s)         50,954 bytes\n",
      "               3 Dir(s)  118,050,295,808 bytes free\n"
     ]
    }
   ],
   "source": [
    "!dir"
   ]
  },
  {
   "cell_type": "code",
   "execution_count": null,
   "id": "c51ecaf4-fdac-492b-996f-5c6dc1f9afdb",
   "metadata": {},
   "outputs": [],
   "source": [
    "\n"
   ]
  },
  {
   "cell_type": "code",
   "execution_count": null,
   "id": "1b7f66c8-bc34-4b30-9c24-01db22a080f7",
   "metadata": {},
   "outputs": [],
   "source": []
  },
  {
   "cell_type": "code",
   "execution_count": null,
   "id": "2654fe5f-3eb1-42b6-b5e7-c365e4cefeb0",
   "metadata": {},
   "outputs": [],
   "source": []
  }
 ],
 "metadata": {
  "kernelspec": {
   "display_name": "Python 3 (ipykernel)",
   "language": "python",
   "name": "python3"
  },
  "language_info": {
   "codemirror_mode": {
    "name": "ipython",
    "version": 3
   },
   "file_extension": ".py",
   "mimetype": "text/x-python",
   "name": "python",
   "nbconvert_exporter": "python",
   "pygments_lexer": "ipython3",
   "version": "3.12.4"
  }
 },
 "nbformat": 4,
 "nbformat_minor": 5
}
