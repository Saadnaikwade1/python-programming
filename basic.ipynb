{
 "cells": [
  {
   "cell_type": "code",
   "execution_count": 7,
   "id": "636a31c2-b1e0-432c-9796-971587df1cee",
   "metadata": {},
   "outputs": [
    {
     "name": "stdout",
     "output_type": "stream",
     "text": [
      "113.04\n",
      "10\n",
      "5.0\n"
     ]
    }
   ],
   "source": [
    "from abc import *\n",
    "class shape(ABC):\n",
    "    def __init__(s,d1,d2=0):\n",
    "        s.__d1=d1\n",
    "        s.__d2=d2\n",
    "    def getD1(s):\n",
    "        return s.__d1\n",
    "    def getD2(s):\n",
    "        return s.__d2\n",
    "    @abstractmethod\n",
    "    def area(s):\n",
    "        pass\n",
    "class React(shape):\n",
    "    def area(s):\n",
    "        return s.getD1()*s.getD2()\n",
    "class Circle(shape):\n",
    "    def area(s):\n",
    "        return s.getD1()*s.getD1()*3.14\n",
    "class Tri(shape):\n",
    "    def area(s):\n",
    "        return s.getD1()*s.getD2()*0.5\n",
    "c=Circle(6)\n",
    "r=React(5,2)\n",
    "t=Tri(5,2)\n",
    "print(c.area())\n",
    "print(r.area())\n",
    "print(t.area())"
   ]
  },
  {
   "cell_type": "code",
   "execution_count": 12,
   "id": "c51ab826-03f0-4251-b53b-4f397a68183c",
   "metadata": {},
   "outputs": [
    {
     "name": "stdin",
     "output_type": "stream",
     "text": [
      "Enter your age:  -8\n"
     ]
    },
    {
     "name": "stdout",
     "output_type": "stream",
     "text": [
      "Your age is: -8\n"
     ]
    }
   ],
   "source": [
    "class NegativeAgeError(Exception):\n",
    "    pass\n",
    "\n",
    "try:\n",
    "    age = int(input(\"Enter your age: \"))\n",
    "    if age < 0:\n",
    "        raise NegativeAgeError(\"Age cannot be negative.\")\n",
    "    print(\"Your age is:\", age)\n",
    "except Exception as e:\n",
    "    print(\"Custom Error:\", e)\n",
    "except ValueError:\n",
    "    print(\"Error: Enter a valid number.\")\n"
   ]
  },
  {
   "cell_type": "code",
   "execution_count": 13,
   "id": "ed4b75cf-3026-429a-8da3-563e6109721f",
   "metadata": {},
   "outputs": [
    {
     "name": "stdin",
     "output_type": "stream",
     "text": [
      "Enter a number:  -\n"
     ]
    },
    {
     "name": "stdout",
     "output_type": "stream",
     "text": [
      "Invalid input! Try again.\n"
     ]
    },
    {
     "name": "stdin",
     "output_type": "stream",
     "text": [
      "Enter a number:  2\n"
     ]
    },
    {
     "name": "stdout",
     "output_type": "stream",
     "text": [
      "You entered: 2\n"
     ]
    }
   ],
   "source": [
    "while True:\n",
    "    try:\n",
    "        num = int(input(\"Enter a number: \"))\n",
    "        break\n",
    "    except ValueError:\n",
    "        print(\"Invalid input! Try again.\")\n",
    "print(\"You entered:\", num)\n"
   ]
  },
  {
   "cell_type": "code",
   "execution_count": 16,
   "id": "48c7392b-51d3-4d25-9a44-65ee12c1fd51",
   "metadata": {},
   "outputs": [
    {
     "name": "stdout",
     "output_type": "stream",
     "text": [
      "2\n"
     ]
    }
   ],
   "source": [
    "class Employee:\n",
    "    count = 0  # Class variable\n",
    "\n",
    "    def __init__(self, name):\n",
    "        self.name = name\n",
    "        Employee.count += 1\n",
    "    @staticmethod    \n",
    "    def getcount():\n",
    "        return Employee.count\n",
    "\n",
    "e1 = Employee(\"Alice\")\n",
    "e2 = Employee(\"Bob\")\n",
    "print(Employee.getcount())\n"
   ]
  },
  {
   "cell_type": "code",
   "execution_count": 3,
   "id": "96580063-50a4-4e8c-a67e-990f29ae0bc7",
   "metadata": {},
   "outputs": [
    {
     "name": "stdout",
     "output_type": "stream",
     "text": [
      "False\n",
      "True\n"
     ]
    }
   ],
   "source": [
    "# 1752 Check array is sorted and Rotated\n",
    "def sor_rot(nums):\n",
    "    c=0\n",
    "    n=len(nums)\n",
    "    for i in range(n):\n",
    "        if nums[i]>nums[(i+1)%n]:\n",
    "            c=c+1\n",
    "    return c<=1\n",
    "print(sor_rot([2,1,3,4]))\n",
    "print(sor_rot([3,4,5,1,2]))"
   ]
  },
  {
   "cell_type": "code",
   "execution_count": 2,
   "id": "62b1093d-e3cf-49d6-9111-f72e42fe9f36",
   "metadata": {},
   "outputs": [
    {
     "name": "stdin",
     "output_type": "stream",
     "text": [
      " 1244\n"
     ]
    },
    {
     "name": "stdout",
     "output_type": "stream",
     "text": [
      "4\n"
     ]
    }
   ],
   "source": [
    "# 1.Count how many digits are there in a given no.\n",
    "n=int(input())\n",
    "c=0\n",
    "while n!=0:\n",
    "    n=n//10\n",
    "    c=c+1\n",
    "print(c)"
   ]
  },
  {
   "cell_type": "code",
   "execution_count": 5,
   "id": "2a3a9e03-971d-414c-b2ab-fbee4e518991",
   "metadata": {},
   "outputs": [
    {
     "name": "stdin",
     "output_type": "stream",
     "text": [
      " 28\n"
     ]
    },
    {
     "name": "stdout",
     "output_type": "stream",
     "text": [
      "NOT FOUND\n"
     ]
    }
   ],
   "source": [
    "# 2.check the given no contain 5 or 7.\n",
    "n=int(input())\n",
    "while n!=0:\n",
    "    d=n%10\n",
    "    n//=10\n",
    "    if d==5 or d==7:\n",
    "        print(\"YES\")\n",
    "        break \n",
    "print(\"NOT FOUND\")"
   ]
  },
  {
   "cell_type": "code",
   "execution_count": null,
   "id": "1ed09d85-6d2f-41f8-b733-526f6f0305b7",
   "metadata": {},
   "outputs": [],
   "source": [
    "#3. Check the given no is prime or not.\n",
    "n=int(input())\n",
    "c=0\n",
    "for i in range(1,n+1):\n",
    "    if n%i==0:\n",
    "        c+=1\n",
    "if c==2:\n",
    "    print(\"prime\")\n",
    "else:\n",
    "    print(\"NOT PRIME\")"
   ]
  },
  {
   "cell_type": "code",
   "execution_count": 3,
   "id": "9e8519c3-3193-4691-8fc9-1c4b78f87ffb",
   "metadata": {},
   "outputs": [
    {
     "name": "stdout",
     "output_type": "stream",
     "text": [
      "8 5\n"
     ]
    }
   ],
   "source": [
    "#4.write python script to swap two numbers\n",
    "a=5\n",
    "b=8\n",
    "a,b=b,a\n",
    "print(a,b)"
   ]
  },
  {
   "cell_type": "code",
   "execution_count": 4,
   "id": "64b3a5c5-57db-4acc-876d-00f7434b8e8a",
   "metadata": {},
   "outputs": [
    {
     "name": "stdout",
     "output_type": "stream",
     "text": [
      "4 5\n"
     ]
    }
   ],
   "source": [
    "#4. using temparory variable\n",
    "c=5\n",
    "d=4\n",
    "temp=c\n",
    "c=d\n",
    "d=temp\n",
    "print(c,d)\n"
   ]
  },
  {
   "cell_type": "code",
   "execution_count": 7,
   "id": "ef26f7f2-40bb-451b-af3e-facf3d535aa7",
   "metadata": {},
   "outputs": [
    {
     "name": "stdout",
     "output_type": "stream",
     "text": [
      "3 2\n"
     ]
    }
   ],
   "source": [
    "# 4. USING arithementic operator\n",
    "m=2 \n",
    "n=3\n",
    "m=m+n\n",
    "n=m-n\n",
    "m=m-n\n",
    "print(m,n)"
   ]
  },
  {
   "cell_type": "code",
   "execution_count": 8,
   "id": "3120293d-26ce-4d9a-b039-d13cb78730c0",
   "metadata": {},
   "outputs": [
    {
     "name": "stdin",
     "output_type": "stream",
     "text": [
      "enter lenght:  4\n",
      "enter bredth:  5\n"
     ]
    },
    {
     "name": "stdout",
     "output_type": "stream",
     "text": [
      "The area is :20\n"
     ]
    }
   ],
   "source": [
    "#5.calculate the area of triangle- a=l*b\n",
    "l=int(input(\"enter lenght:\"))\n",
    "b=int(input(\"enter bredth:\"))\n",
    "area= l*b\n",
    "print(f\"The area is :{area}\")"
   ]
  },
  {
   "cell_type": "code",
   "execution_count": 9,
   "id": "697ee313-e298-4619-bbf2-9a76965263cc",
   "metadata": {},
   "outputs": [
    {
     "name": "stdin",
     "output_type": "stream",
     "text": [
      "Enter radius 5\n"
     ]
    },
    {
     "name": "stdout",
     "output_type": "stream",
     "text": [
      "The perimeter of circle:31.400000000000002\n"
     ]
    }
   ],
   "source": [
    "# 6. calculate perimeter of circle p=2*Pi*r\n",
    "pi=3.14\n",
    "r=int(input(\"Enter radius\"))\n",
    "p=2*pi*r\n",
    "print(f\"The perimeter of circle:{p}\")"
   ]
  },
  {
   "cell_type": "code",
   "execution_count": 12,
   "id": "ab8e92c0-f238-4ba4-a616-c50b3f7e67bb",
   "metadata": {},
   "outputs": [
    {
     "name": "stdin",
     "output_type": "stream",
     "text": [
      "Enter radius: 1\n"
     ]
    },
    {
     "name": "stdout",
     "output_type": "stream",
     "text": [
      "The area of circle:3.14\n"
     ]
    }
   ],
   "source": [
    "# 7.Calculate the area of circle. a=pi*r^2\n",
    "pi=3.14\n",
    "r=int(input(\"Enter radius:\"))\n",
    "a=pi*r**2\n",
    "print(f\"The area of circle:{a}\")\n"
   ]
  },
  {
   "cell_type": "code",
   "execution_count": 14,
   "id": "c9d83f7e-9f84-4570-8373-aad42ea1bec2",
   "metadata": {},
   "outputs": [
    {
     "name": "stdin",
     "output_type": "stream",
     "text": [
      "Enter breadth: 3\n",
      "Enter height: 4\n"
     ]
    },
    {
     "name": "stdout",
     "output_type": "stream",
     "text": [
      "area of tringle:6.0\n"
     ]
    }
   ],
   "source": [
    "#8. calculate area of triangle:- 1/2*b*h\n",
    "b=int(input(\"Enter breadth:\"))\n",
    "h=int(input(\"Enter height:\"))\n",
    "a=0.5*b*h\n",
    "print(f\"area of tringle:{a}\")\n",
    "      "
   ]
  },
  {
   "cell_type": "code",
   "execution_count": 15,
   "id": "4f9c2f21-4950-4805-882c-09831d295e6b",
   "metadata": {},
   "outputs": [
    {
     "name": "stdout",
     "output_type": "stream",
     "text": [
      "the volume of the cube: 27\n"
     ]
    }
   ],
   "source": [
    "# 9.calculate volume of cube- v^3\n",
    "v=3\n",
    "print(\"the volume of the cube:\",v**3)"
   ]
  },
  {
   "cell_type": "code",
   "execution_count": 17,
   "id": "fce0bfb5-6244-4a29-968e-0cc65afc29eb",
   "metadata": {},
   "outputs": [
    {
     "name": "stdin",
     "output_type": "stream",
     "text": [
      " 4\n"
     ]
    },
    {
     "name": "stdout",
     "output_type": "stream",
     "text": [
      "even\n"
     ]
    }
   ],
   "source": [
    "#10. check the given number is even or odd.\n",
    "n=int(input())\n",
    "if n%2==0:\n",
    "    print(\"even\")\n",
    "else:\n",
    "    print(\"odd\")"
   ]
  },
  {
   "cell_type": "code",
   "execution_count": 22,
   "id": "3f6daedc-c577-424c-b027-043bfec1000e",
   "metadata": {},
   "outputs": [
    {
     "name": "stdin",
     "output_type": "stream",
     "text": [
      " 15\n"
     ]
    },
    {
     "name": "stdout",
     "output_type": "stream",
     "text": [
      "yes\n"
     ]
    }
   ],
   "source": [
    "# 11.check the given no is multiple of 3, 5 or not\n",
    "n=int(input())\n",
    "if n%5==0 and n%3==0:\n",
    "    print(\"yes\")\n",
    "else:\n",
    "    print('no')"
   ]
  },
  {
   "cell_type": "code",
   "execution_count": 2,
   "id": "2ce84cbb-ca97-4beb-811e-6c5c420c8bce",
   "metadata": {},
   "outputs": [
    {
     "name": "stdin",
     "output_type": "stream",
     "text": [
      " 67\n"
     ]
    },
    {
     "name": "stdout",
     "output_type": "stream",
     "text": [
      "yes\n"
     ]
    }
   ],
   "source": [
    "# 12. check the given number is ending with either 4 or 7.\n",
    "n=int(input())\n",
    "d=n%10\n",
    "if d==4 or d==7:\n",
    "    print('yes')\n",
    "else:\n",
    "    print(\"NO\")\n"
   ]
  },
  {
   "cell_type": "code",
   "execution_count": 9,
   "id": "d892cef8-f304-4b91-b382-b0b020531c37",
   "metadata": {},
   "outputs": [
    {
     "name": "stdin",
     "output_type": "stream",
     "text": [
      " 3000\n"
     ]
    },
    {
     "name": "stdout",
     "output_type": "stream",
     "text": [
      "not leap year\n"
     ]
    }
   ],
   "source": [
    "#13. check the given number is leap year or not.\n",
    "y=int(input())\n",
    "if (y%4==0 and y%100!=0) or (y%400==0):\n",
    "    print(\"Leap Year\")\n",
    "else:\n",
    "    print('not leap year')\n"
   ]
  },
  {
   "cell_type": "code",
   "execution_count": 13,
   "id": "dfad8058-08f9-4961-8322-d68ad3cd8cb2",
   "metadata": {},
   "outputs": [
    {
     "name": "stdin",
     "output_type": "stream",
     "text": [
      " 3 5 1\n"
     ]
    },
    {
     "name": "stdout",
     "output_type": "stream",
     "text": [
      "5\n"
     ]
    }
   ],
   "source": [
    "# 14.display greatest amoung three number.\n",
    "a,b,c=map(int,input().split())\n",
    "if a>b and a>c:\n",
    "    print(a)\n",
    "elif b>c:\n",
    "    print(b)\n",
    "else:\n",
    "    print(c)\n",
    "    "
   ]
  },
  {
   "cell_type": "code",
   "execution_count": 14,
   "id": "f0f657ad-4d79-49f6-a31c-c39750bd9a33",
   "metadata": {},
   "outputs": [
    {
     "name": "stdin",
     "output_type": "stream",
     "text": [
      " 3 5 2\n"
     ]
    },
    {
     "name": "stdout",
     "output_type": "stream",
     "text": [
      "5\n"
     ]
    }
   ],
   "source": [
    "# 15. withount logical operator greatest amoung three number....\n",
    "a,b,c=map(int,input().split())\n",
    "if a>b:\n",
    "    if a>c:\n",
    "        print(a)\n",
    "elif b>c:\n",
    "    print(b)\n",
    "else:\n",
    "    print(c)"
   ]
  },
  {
   "cell_type": "code",
   "execution_count": 16,
   "id": "fe5141b1-7aa5-41b2-b528-821ab38e42b2",
   "metadata": {},
   "outputs": [
    {
     "name": "stdin",
     "output_type": "stream",
     "text": [
      " 4\n"
     ]
    },
    {
     "name": "stdout",
     "output_type": "stream",
     "text": [
      "+ve\n"
     ]
    }
   ],
   "source": [
    "# 16.check the given number is +ve or -ve or zero...\n",
    "n=int(input())\n",
    "if n>0:\n",
    "    print(\"+ve\")\n",
    "elif n<0:\n",
    "    print('-ve')\n",
    "else:\n",
    "    print('zero')\n",
    "    "
   ]
  },
  {
   "cell_type": "code",
   "execution_count": 21,
   "id": "e28cf0e4-808c-466e-b2e1-13280eee6b5f",
   "metadata": {},
   "outputs": [
    {
     "name": "stdin",
     "output_type": "stream",
     "text": [
      " 30\n"
     ]
    },
    {
     "name": "stdout",
     "output_type": "stream",
     "text": [
      "No\n"
     ]
    }
   ],
   "source": [
    "# 17.check the given number is divisible by 3 but not by 5...\n",
    "n=int(input())\n",
    "if n%3==0 and n%5!=0:\n",
    "    print('yes')\n",
    "else:\n",
    "    print('No')"
   ]
  },
  {
   "cell_type": "code",
   "execution_count": 23,
   "id": "0fa28dee-66a4-49b8-a83d-9e2b7904add2",
   "metadata": {},
   "outputs": [
    {
     "name": "stdin",
     "output_type": "stream",
     "text": [
      " 89\n"
     ]
    },
    {
     "name": "stdout",
     "output_type": "stream",
     "text": [
      "the given no between 80 and 120\n"
     ]
    }
   ],
   "source": [
    "#18.check the entered no between 80 to 120.\n",
    "n=int(input())\n",
    "if n>80 and n<120:\n",
    "    print('the given no between 80 and 120')\n",
    "else:\n",
    "    print('No')"
   ]
  },
  {
   "cell_type": "code",
   "execution_count": 41,
   "id": "0297dff5-4dd2-44e3-93f0-b7c9efc0a36a",
   "metadata": {},
   "outputs": [
    {
     "name": "stdin",
     "output_type": "stream",
     "text": [
      " -3\n"
     ]
    },
    {
     "name": "stdout",
     "output_type": "stream",
     "text": [
      "Grade: Invalid marks\n"
     ]
    }
   ],
   "source": [
    "#19. display the grade of student by reading marks as input..\n",
    "m=int(input())\n",
    "if m>85 and m<=100:\n",
    "    grade='A'\n",
    "elif m<=85 and m>70:\n",
    "    grade=\"B\"\n",
    "elif m<=70 and m>55:\n",
    "    grade=\"C\"\n",
    "elif m<=55 and m>45:\n",
    "    grade=\"D\"\n",
    "elif m<=45 and m>=0:\n",
    "    grade=\"FAIL\"\n",
    "else:\n",
    "    grade='Invalid marks'\n",
    "print('Grade:',grade)"
   ]
  },
  {
   "cell_type": "code",
   "execution_count": 46,
   "id": "eee81a4a-d3e4-46b9-a229-5b248f1cb9e1",
   "metadata": {},
   "outputs": [
    {
     "name": "stdin",
     "output_type": "stream",
     "text": [
      "Enter old meter reading: 132\n",
      "Enter new meter reading: 250\n"
     ]
    },
    {
     "name": "stdout",
     "output_type": "stream",
     "text": [
      "118 672.6\n"
     ]
    }
   ],
   "source": [
    "#20.read old meter reading, current meter reading as a input. calculate the electricity bill based on following slabrate.\n",
    "# 0-100 3.7rs | <=150 5.7rs | <=200 7.3rs |<=250 12.7rs.\n",
    "om=int(input(\"Enter old meter reading:\"))\n",
    "nm=int(input('Enter new meter reading:'))\n",
    "nu=nm-om\n",
    "if nu<=100:\n",
    "    print(nu,nu*3.7)\n",
    "elif nu<=150:\n",
    "    print(nu,nu*5.7)\n",
    "elif nu<=200:\n",
    "    print(nu,nu*7.3)\n",
    "elif nu<=250:\n",
    "    print(nu,nu*12.7)\n",
    "else:\n",
    "    print(nu,nu*12.7)"
   ]
  },
  {
   "cell_type": "code",
   "execution_count": null,
   "id": "21ae6f15-5e9e-4ad7-bd34-29df9cae8957",
   "metadata": {},
   "outputs": [],
   "source": []
  }
 ],
 "metadata": {
  "kernelspec": {
   "display_name": "Python 3 (ipykernel)",
   "language": "python",
   "name": "python3"
  },
  "language_info": {
   "codemirror_mode": {
    "name": "ipython",
    "version": 3
   },
   "file_extension": ".py",
   "mimetype": "text/x-python",
   "name": "python",
   "nbconvert_exporter": "python",
   "pygments_lexer": "ipython3",
   "version": "3.12.4"
  }
 },
 "nbformat": 4,
 "nbformat_minor": 5
}
